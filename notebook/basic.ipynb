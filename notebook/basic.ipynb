{
 "cells": [
  {
   "cell_type": "code",
   "execution_count": null,
   "id": "3eb6e7a7-ff63-4228-8e0a-a6782411eeaa",
   "metadata": {},
   "outputs": [],
   "source": [
    "# install dependencies\n",
    "! pip install requests\n",
    "! pip install ataskq==0.6.3"
   ]
  },
  {
   "cell_type": "code",
   "execution_count": null,
   "id": "64d4cf9f-f89d-4c61-9c0f-00008a9730f8",
   "metadata": {},
   "outputs": [],
   "source": [
    "from ataskq import TaskQ, Task, targs\n",
    "from ataskq.tasks_utils import hello_world, dummy_args_task\n",
    "\n",
    "# create  job\n",
    "tr = TaskQ().create_job()\n",
    "\n",
    "# add tasks\n",
    "# entrypoint stands for the relevant function import statement\n",
    "# (here we use build in demo functions)\n",
    "tr.add_tasks(\n",
    "    [\n",
    "        Task(name=\"hello\", entrypoint=hello_world),\n",
    "        Task(name=\"with_args\", entrypoint=dummy_args_task, targs=targs(\"arg0\", \"arg1\", kwarg1=10, kwarg2=\"this is kwarg2\")),\n",
    "    ]\n",
    ")\n",
    "\n",
    "tasks = tr.get_tasks()\n",
    "for t in tasks:\n",
    "    print(t)\n"
   ]
  },
  {
   "cell_type": "code",
   "execution_count": null,
   "id": "d86715f4-00b5-4882-82f8-8c359342ce8c",
   "metadata": {},
   "outputs": [],
   "source": []
  }
 ],
 "metadata": {
  "kernelspec": {
   "display_name": "Python 3 (ipykernel)",
   "language": "python",
   "name": "python3"
  },
  "language_info": {
   "codemirror_mode": {
    "name": "ipython",
    "version": 3
   },
   "file_extension": ".py",
   "mimetype": "text/x-python",
   "name": "python",
   "nbconvert_exporter": "python",
   "pygments_lexer": "ipython3",
   "version": "3.11.6"
  }
 },
 "nbformat": 4,
 "nbformat_minor": 5
}
